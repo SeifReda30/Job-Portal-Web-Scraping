{
 "cells": [
  {
   "cell_type": "markdown",
   "id": "1d64ae5f",
   "metadata": {},
   "source": [
    "# This Script is Scraping All Data Analyst jobs from Wuzzuf Website"
   ]
  },
  {
   "cell_type": "markdown",
   "id": "96c57a08",
   "metadata": {},
   "source": [
    "### Importing Libraries"
   ]
  },
  {
   "cell_type": "code",
   "execution_count": 32,
   "id": "61af4901",
   "metadata": {},
   "outputs": [],
   "source": [
    "from bs4 import BeautifulSoup as bs\n",
    "import requests\n",
    "import datetime\n",
    "from datetime import date\n",
    "from dateutil.relativedelta import relativedelta\n",
    "import time\n",
    "from urllib.request import urlopen\n",
    "import csv\n",
    "\n"
   ]
  },
  {
   "cell_type": "markdown",
   "id": "2c987523",
   "metadata": {},
   "source": [
    "###  Creating Spreadsheet and Adding Header"
   ]
  },
  {
   "cell_type": "code",
   "execution_count": 33,
   "id": "26c063b8",
   "metadata": {},
   "outputs": [],
   "source": [
    "file = open('D:\\Wuzzuf_Data_analyst.csv', 'w')\n",
    "header=[\"Job_Title\", \"Company_Name\", \"Company_Address\", \"Job_Time\", \"Job_Level\", \"Publish_Date\",\"Job_Link\"]\n",
    "with open('D:\\Wuzzuf_Data_analyst.csv', 'a',encoding=\"utf-8\",newline=\"\") as f:\n",
    "    writer = csv.writer(f)\n",
    "    writer.writerow(header)\n"
   ]
  },
  {
   "cell_type": "markdown",
   "id": "971a3308",
   "metadata": {},
   "source": [
    "### Creating Function to Scrap The Passed URL"
   ]
  },
  {
   "cell_type": "code",
   "execution_count": 34,
   "id": "0fb64779",
   "metadata": {},
   "outputs": [],
   "source": [
    "def UrlScrape(url):\n",
    "    #Sending request to the URL top open it\n",
    "    client=urlopen(url)\n",
    "    #Redaing HTML Content\n",
    "    htmlcontent=client.read()\n",
    "    #Close Connection with URL\n",
    "    client.close\n",
    "    #Parsing HTML Content to Organize it and be Look Understandable\n",
    "    htmlparsed = bs(htmlcontent,\"html.parser\")\n",
    "    #Finding all page sections which contain job details\n",
    "    jobscontainer=htmlparsed.find_all(\"div\",{\"class\":\"css-pkv5jc\"})\n",
    "    #loop on all page jobs data and extracting the job title, company name, company address, job time, job level and the period of time which the job posted then converting it to post date\n",
    "    for container in jobscontainer:\n",
    "        job_title=container.find(\"h2\",{\"class\":\"css-m604qf\"})\n",
    "        job_title=job_title.text.strip()\n",
    "        company_name=container.find(\"a\",{\"class\",\"css-17s97q8\"})\n",
    "        company_name=company_name.text.replace('-','').strip()\n",
    "        company_address=container.find(\"span\",{\"class\",\"css-5wys0k\"})\n",
    "        company_address=company_address.text.replace(',','\\\\').strip()\n",
    "        job_time=container.find(\"a\",{\"class\",\"css-n2jc4m\"})\n",
    "        job_time=job_time.text.strip()\n",
    "        job_level=container.find_all(\"a\",{\"class\",\"css-o171kl\"})\n",
    "        job_level=job_level[1].text.strip()\n",
    "        job_link=container.find(\"a\",{\"class\",\"css-o171kl\"}).get('href')\n",
    "        job_link=\"https://wuzzuf.net\"+job_link\n",
    "        #Converting the period of time which the job posted to it's date by subtracting this period from today date\n",
    "        publich_date=container.find(\"div\",{\"class\",\"css-4c4ojb\"})\n",
    "        if publich_date==None:\n",
    "            publich_date=container.find(\"div\",{\"class\",\"css-do6t5g\"})\n",
    "        publich_date=publich_date.text.strip()\n",
    "        if (\"days\" in publich_date) or (\"day\" in publich_date):\n",
    "            day=publich_date[0:2]\n",
    "            datediff = date.today() + datetime.timedelta(days = -int(day))\n",
    "            pub_date=str(datediff.day)+'/'+str(datediff.month)+'/'+str(datediff.year)\n",
    "        elif (\"month\" in publich_date) or (\"months\" in publich_date):\n",
    "            month=publich_date[0:2]\n",
    "            datediff = date.today() + relativedelta(months = -int(month))\n",
    "            pub_date=str(datediff.day)+'/'+str(datediff.month)+'/'+str(datediff.year)\n",
    "        elif (\"year\" in publich_date) or (\"years\" in publich_date):\n",
    "            year=publich_date[0:2]\n",
    "            datediff = date.today() + relativedelta(years = -int(year))\n",
    "            pub_date=str(datediff.day)+'/'+str(datediff.month)+'/'+str(datediff.year)\n",
    "        else:\n",
    "            pub_date=str(date.today().day)+'/'+str(date.today().month)+'/'+str(date.today().year)\n",
    "        row=[job_title,company_name,company_address,job_time,job_level,pub_date,job_link]\n",
    "        #Appending Job Data to Spreadsheet\n",
    "        with open('D:\\Wuzzuf_Data_analyst.csv', 'a',encoding=\"utf-8\",newline=\"\") as f:\n",
    "            writer = csv.writer(f)\n",
    "            writer.writerow(row)\n",
    "    \n",
    "    "
   ]
  },
  {
   "cell_type": "code",
   "execution_count": 35,
   "id": "5e367937",
   "metadata": {
    "scrolled": true
   },
   "outputs": [],
   "source": [
    "#Looping on All Wuzzuf Search Result Pages of Data Analyst by incrementing the page index in the URL\n",
    "#11 is the number of pages that contain the search results on wuzzuf website\n",
    "for i in range (0,11):\n",
    "    UrlScrape('https://wuzzuf.net/search/jobs/?a=navbl%7Cspbl&q=data%20analyst&start='+str(i))\n",
    "    \n",
    "    "
   ]
  },
  {
   "cell_type": "code",
   "execution_count": 36,
   "id": "0fd8d62f",
   "metadata": {},
   "outputs": [],
   "source": [
    "file.close()\n"
   ]
  },
  {
   "cell_type": "code",
   "execution_count": null,
   "id": "6e2c0f1f",
   "metadata": {},
   "outputs": [],
   "source": []
  }
 ],
 "metadata": {
  "kernelspec": {
   "display_name": "Python 3 (ipykernel)",
   "language": "python",
   "name": "python3"
  },
  "language_info": {
   "codemirror_mode": {
    "name": "ipython",
    "version": 3
   },
   "file_extension": ".py",
   "mimetype": "text/x-python",
   "name": "python",
   "nbconvert_exporter": "python",
   "pygments_lexer": "ipython3",
   "version": "3.9.7"
  }
 },
 "nbformat": 4,
 "nbformat_minor": 5
}
